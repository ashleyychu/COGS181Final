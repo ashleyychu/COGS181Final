{
 "cells": [
  {
   "cell_type": "code",
   "execution_count": 10,
   "metadata": {},
   "outputs": [
    {
     "name": "stdout",
     "output_type": "stream",
     "text": [
      "Defaulting to user installation because normal site-packages is not writeable\n",
      "Requirement already satisfied: music21 in /home/a8chu/.local/lib/python3.9/site-packages (8.3.0)\n",
      "Requirement already satisfied: chardet in /opt/conda/lib/python3.9/site-packages (from music21) (4.0.0)\n",
      "Requirement already satisfied: webcolors>=1.5 in /opt/conda/lib/python3.9/site-packages (from music21) (1.13)\n",
      "Requirement already satisfied: numpy in /opt/conda/lib/python3.9/site-packages (from music21) (1.22.4)\n",
      "Requirement already satisfied: matplotlib in /opt/conda/lib/python3.9/site-packages (from music21) (3.4.2)\n",
      "Requirement already satisfied: more-itertools in /home/a8chu/.local/lib/python3.9/site-packages (from music21) (10.2.0)\n",
      "Requirement already satisfied: joblib in /opt/conda/lib/python3.9/site-packages (from music21) (1.0.1)\n",
      "Requirement already satisfied: jsonpickle in /home/a8chu/.local/lib/python3.9/site-packages (from music21) (3.0.3)\n",
      "Requirement already satisfied: requests in /opt/conda/lib/python3.9/site-packages (from music21) (2.26.0)\n",
      "Requirement already satisfied: python-dateutil>=2.7 in /opt/conda/lib/python3.9/site-packages (from matplotlib->music21) (2.8.2)\n",
      "Requirement already satisfied: kiwisolver>=1.0.1 in /opt/conda/lib/python3.9/site-packages (from matplotlib->music21) (1.3.1)\n",
      "Requirement already satisfied: pillow>=6.2.0 in /home/a8chu/.local/lib/python3.9/site-packages (from matplotlib->music21) (10.2.0)\n",
      "Requirement already satisfied: pyparsing>=2.2.1 in /opt/conda/lib/python3.9/site-packages (from matplotlib->music21) (2.4.7)\n",
      "Requirement already satisfied: cycler>=0.10 in /opt/conda/lib/python3.9/site-packages (from matplotlib->music21) (0.10.0)\n",
      "Requirement already satisfied: six in /opt/conda/lib/python3.9/site-packages (from cycler>=0.10->matplotlib->music21) (1.16.0)\n",
      "Requirement already satisfied: charset-normalizer~=2.0.0 in /opt/conda/lib/python3.9/site-packages (from requests->music21) (2.0.0)\n",
      "Requirement already satisfied: certifi>=2017.4.17 in /opt/conda/lib/python3.9/site-packages (from requests->music21) (2023.11.17)\n",
      "Requirement already satisfied: urllib3<1.27,>=1.21.1 in /opt/conda/lib/python3.9/site-packages (from requests->music21) (1.26.6)\n",
      "Requirement already satisfied: idna<4,>=2.5 in /opt/conda/lib/python3.9/site-packages (from requests->music21) (3.1)\n",
      "Note: you may need to restart the kernel to use updated packages.\n"
     ]
    }
   ],
   "source": [
    "pip install music21"
   ]
  },
  {
   "cell_type": "code",
   "execution_count": 11,
   "metadata": {
    "ExecuteTime": {
     "end_time": "2019-05-14T23:57:20.051203Z",
     "start_time": "2019-05-14T23:57:19.626384Z"
    }
   },
   "outputs": [],
   "source": [
    "import string\n",
    "import random\n",
    "import torch\n",
    "import torch.nn as nn\n",
    "import matplotlib.pyplot as plt\n",
    "\n",
    "import os\n",
    "\n",
    "import music21\n",
    "from music21 import *\n",
    "\n",
    "import IPython\n",
    "from IPython.display import Image, Audio, SVG, display"
   ]
  },
  {
   "cell_type": "markdown",
   "metadata": {},
   "source": [
    "**Prepare dataset**"
   ]
  },
  {
   "cell_type": "code",
   "execution_count": 12,
   "metadata": {},
   "outputs": [],
   "source": [
    "filepath = \"Beethoven/\"\n",
    "all_midis= []\n",
    "for i in os.listdir(filepath):\n",
    "    if i.endswith(\".midi\"):\n",
    "        tr = filepath+i\n",
    "        midi = converter.parse(tr)\n",
    "        all_midis.append(midi)"
   ]
  },
  {
   "cell_type": "code",
   "execution_count": 13,
   "metadata": {},
   "outputs": [
    {
     "name": "stdout",
     "output_type": "stream",
     "text": [
      "Total notes in all the midis in the dataset: 1005283\n"
     ]
    }
   ],
   "source": [
    "# convert all chords and notes to a list of notes as strings\n",
    "\n",
    "def extract_notes(file):\n",
    "    notes = []\n",
    "    pick = None\n",
    "    for j in file:\n",
    "        songs = instrument.partitionByInstrument(j)\n",
    "        for part in songs.parts:\n",
    "            pick = part.recurse()\n",
    "            for element in pick:\n",
    "                if isinstance(element, note.Note):\n",
    "                    notes.append(str(element.pitch))\n",
    "                elif isinstance(element, chord.Chord):\n",
    "                    notes.extend(element.pitchNames)\n",
    "\n",
    "    return notes\n",
    "\n",
    "Corpus = extract_notes(all_midis)\n",
    "print(\"Total notes in all the midis in the dataset:\", len(Corpus))"
   ]
  },
  {
   "cell_type": "code",
   "execution_count": 14,
   "metadata": {},
   "outputs": [
    {
     "data": {
      "text/plain": [
       "{'A',\n",
       " 'A1',\n",
       " 'A2',\n",
       " 'A3',\n",
       " 'A4',\n",
       " 'A5',\n",
       " 'A6',\n",
       " 'B',\n",
       " 'B-',\n",
       " 'B-1',\n",
       " 'B-2',\n",
       " 'B-3',\n",
       " 'B-4',\n",
       " 'B-5',\n",
       " 'B-6',\n",
       " 'B1',\n",
       " 'B2',\n",
       " 'B3',\n",
       " 'B4',\n",
       " 'B5',\n",
       " 'B6',\n",
       " 'C',\n",
       " 'C#',\n",
       " 'C#2',\n",
       " 'C#3',\n",
       " 'C#4',\n",
       " 'C#5',\n",
       " 'C#6',\n",
       " 'C#7',\n",
       " 'C1',\n",
       " 'C2',\n",
       " 'C3',\n",
       " 'C4',\n",
       " 'C5',\n",
       " 'C6',\n",
       " 'C7',\n",
       " 'D',\n",
       " 'D1',\n",
       " 'D2',\n",
       " 'D3',\n",
       " 'D4',\n",
       " 'D5',\n",
       " 'D6',\n",
       " 'D7',\n",
       " 'E',\n",
       " 'E-',\n",
       " 'E-1',\n",
       " 'E-2',\n",
       " 'E-3',\n",
       " 'E-4',\n",
       " 'E-5',\n",
       " 'E-6',\n",
       " 'E-7',\n",
       " 'E1',\n",
       " 'E2',\n",
       " 'E3',\n",
       " 'E4',\n",
       " 'E5',\n",
       " 'E6',\n",
       " 'E7',\n",
       " 'F',\n",
       " 'F#',\n",
       " 'F#1',\n",
       " 'F#2',\n",
       " 'F#3',\n",
       " 'F#4',\n",
       " 'F#5',\n",
       " 'F#6',\n",
       " 'F#7',\n",
       " 'F1',\n",
       " 'F2',\n",
       " 'F3',\n",
       " 'F4',\n",
       " 'F5',\n",
       " 'F6',\n",
       " 'F7',\n",
       " 'G',\n",
       " 'G#',\n",
       " 'G#1',\n",
       " 'G#2',\n",
       " 'G#3',\n",
       " 'G#4',\n",
       " 'G#5',\n",
       " 'G#6',\n",
       " 'G1',\n",
       " 'G2',\n",
       " 'G3',\n",
       " 'G4',\n",
       " 'G5',\n",
       " 'G6'}"
      ]
     },
     "execution_count": 14,
     "metadata": {},
     "output_type": "execute_result"
    }
   ],
   "source": [
    "set(Corpus)"
   ]
  },
  {
   "cell_type": "markdown",
   "metadata": {},
   "source": [
    "#### Prepare for Dataset"
   ]
  },
  {
   "cell_type": "code",
   "execution_count": 15,
   "metadata": {
    "ExecuteTime": {
     "end_time": "2019-05-14T23:57:20.060842Z",
     "start_time": "2019-05-14T23:57:20.053165Z"
    }
   },
   "outputs": [
    {
     "name": "stdout",
     "output_type": "stream",
     "text": [
      "Length of file: 1005283\n",
      "All possible characters: ['F#4', 'G#', 'C5', 'G2', 'C6', 'F2', 'F5', 'E-1', 'C#2', 'F#1', 'G1', 'E-5', 'D5', 'E5', 'C#4', 'F#5', 'F1', 'C3', 'G6', 'B-', 'G5', 'B-4', 'C#3', 'B4', 'C7', 'B', 'E2', 'E1', 'B-5', 'F#7', 'C#', 'G#4', 'A1', 'F6', 'D2', 'G4', 'B1', 'C#7', 'A5', 'B3', 'D6', 'G#6', 'C', 'B6', 'B-2', 'E-', 'E6', 'G#1', 'F4', 'B-3', 'G#3', 'E7', 'C4', 'F3', 'E3', 'E4', 'C1', 'E-4', 'D7', 'B2', 'B5', 'A2', 'E-2', 'C2', 'E-6', 'D3', 'D1', 'F#2', 'F', 'F#6', 'G#2', 'A', 'C#5', 'D4', 'A3', 'B-6', 'G', 'A6', 'G3', 'D', 'F7', 'C#6', 'F#', 'E-7', 'G#5', 'E', 'B-1', 'A4', 'F#3', 'E-3']\n",
      "Number of all possible characters: 90\n"
     ]
    }
   ],
   "source": [
    "all_notes       = list(set(Corpus))\n",
    "n_notes         = len(all_notes)\n",
    "file            = Corpus\n",
    "file_len        = len(Corpus)\n",
    "\n",
    "print('Length of file: {}'.format(file_len))\n",
    "print('All possible characters: {}'.format(all_notes))\n",
    "print('Number of all possible characters: {}'.format(n_notes))"
   ]
  },
  {
   "cell_type": "code",
   "execution_count": 16,
   "metadata": {
    "ExecuteTime": {
     "end_time": "2019-05-14T23:57:20.077596Z",
     "start_time": "2019-05-14T23:57:20.064808Z"
    }
   },
   "outputs": [],
   "source": [
    "# Get a random sequence of the dataset.\n",
    "def get_random_seq():\n",
    "    seq_len     = 128  # The length of an input sequence.\n",
    "    start_index = random.randint(0, file_len - seq_len)\n",
    "    end_index   = start_index + seq_len + 1\n",
    "    return file[start_index:end_index]\n",
    "\n",
    "# Convert the sequence to one-hot tensor.\n",
    "def seq_to_onehot(seq):\n",
    "    tensor = torch.zeros(len(seq), 1, n_notes) \n",
    "    # Shape of the tensor:\n",
    "    #     (sequence length, batch size, classes)\n",
    "    # Here we use batch size = 1 and classes = number of unique characters.\n",
    "    for t, note in enumerate(seq):\n",
    "        for i, n in enumerate(all_notes):\n",
    "            if n in note:\n",
    "                tensor[t][0][i] = 1\n",
    "        \n",
    "        #index = all_notes.index(note)\n",
    "        #tensor[t][0][index] = 1\n",
    "    return tensor\n",
    "\n",
    "# Convert the sequence to index tensor.\n",
    "def seq_to_index(seq):\n",
    "    tensor = torch.zeros(len(seq), 1)\n",
    "    # Shape of the tensor: \n",
    "    #     (sequence length, batch size).\n",
    "    # Here we use batch size = 1.\n",
    "    for t, note in enumerate(seq):\n",
    "        for i, n in enumerate(all_notes):\n",
    "            if n in note:\n",
    "                tensor[t] = i\n",
    "        \n",
    "        #tensor[t] = all_notes.index(note)\n",
    "    return tensor\n",
    "\n",
    "# Sample a mini-batch including input tensor and target tensor.\n",
    "def get_input_and_target():\n",
    "    seq    = get_random_seq()\n",
    "    #print(seq)\n",
    "    input  = seq_to_onehot(seq[:-1])      # Input is represented in one-hot.\n",
    "    #print(input)\n",
    "    target = seq_to_index(seq[1:]).long() # Target is represented in index.\n",
    "    return input, target"
   ]
  },
  {
   "cell_type": "markdown",
   "metadata": {},
   "source": [
    "#### Choose a Device"
   ]
  },
  {
   "cell_type": "code",
   "execution_count": 17,
   "metadata": {
    "ExecuteTime": {
     "end_time": "2019-05-14T23:57:20.129301Z",
     "start_time": "2019-05-14T23:57:20.081156Z"
    }
   },
   "outputs": [
    {
     "name": "stdout",
     "output_type": "stream",
     "text": [
      "cuda:0\n"
     ]
    }
   ],
   "source": [
    "# If there are GPUs, choose the first one for computing. Otherwise use CPU.\n",
    "device = torch.device(\"cuda:0\" if torch.cuda.is_available() else \"cpu\")\n",
    "print(device)  \n",
    "# If 'cuda:0' is printed, it means GPU is available."
   ]
  },
  {
   "cell_type": "markdown",
   "metadata": {},
   "source": [
    "#### Network Definition"
   ]
  },
  {
   "cell_type": "code",
   "execution_count": 18,
   "metadata": {
    "ExecuteTime": {
     "end_time": "2019-05-14T23:57:22.437344Z",
     "start_time": "2019-05-14T23:57:20.131573Z"
    }
   },
   "outputs": [
    {
     "data": {
      "text/plain": [
       "Net(\n",
       "  (rnn_cell): RNNCell(90, 100)\n",
       "  (linear): Linear(in_features=100, out_features=90, bias=True)\n",
       ")"
      ]
     },
     "execution_count": 18,
     "metadata": {},
     "output_type": "execute_result"
    }
   ],
   "source": [
    "class Net(nn.Module):\n",
    "    def __init__(self):\n",
    "        # Initialization.\n",
    "        super(Net, self).__init__()\n",
    "        self.input_size  = n_notes   # Input size: Number of unique chars.\n",
    "        self.hidden_size = 100       # Hidden size: 100.\n",
    "        self.output_size = n_notes   # Output size: Number of unique chars.\n",
    "        \n",
    "        self.rnn_cell = nn.RNNCell(self.input_size, self.hidden_size)\n",
    "        self.linear = nn.Linear(self.hidden_size, self.output_size)\n",
    "    \n",
    "    def forward(self, input, hidden):\n",
    "        \"\"\" Forward function.\n",
    "              input:  One-hot input. It refers to the x_t in homework write-up.\n",
    "              hidden: Previous hidden state. It refers to the h_{t-1}.\n",
    "            Returns (output, hidden) where output refers to y_t and \n",
    "                     hidden refers to h_t.\n",
    "        \"\"\"\n",
    "        # Forward function.\n",
    "        hidden = self.rnn_cell(input, hidden)\n",
    "        output = self.linear(hidden)\n",
    "\n",
    "        return output, hidden\n",
    "\n",
    "    def init_hidden(self):\n",
    "        # Initial hidden state.\n",
    "        # 1 means batch size = 1.\n",
    "        return torch.zeros(1, self.hidden_size).to(device) \n",
    "    \n",
    "net = Net()     # Create the network instance.\n",
    "net.to(device)  # Move the network parameters to the specified device."
   ]
  },
  {
   "cell_type": "markdown",
   "metadata": {},
   "source": [
    "#### Training Step and Evaluation Step"
   ]
  },
  {
   "cell_type": "code",
   "execution_count": 19,
   "metadata": {
    "ExecuteTime": {
     "end_time": "2019-05-14T23:57:22.449539Z",
     "start_time": "2019-05-14T23:57:22.440333Z"
    }
   },
   "outputs": [],
   "source": [
    "# Training step function.\n",
    "def train_step(net, opt, input, target):\n",
    "    \"\"\" Training step.\n",
    "        net:    The network instance.\n",
    "        opt:    The optimizer instance.\n",
    "        input:  Input tensor.  Shape: [seq_len, 1, n_chars].\n",
    "        target: Target tensor. Shape: [seq_len, 1].\n",
    "    \"\"\"\n",
    "    seq_len = input.shape[0]    # Get the sequence length of current input.\n",
    "    hidden = net.init_hidden()  # Initial hidden state.\n",
    "    net.zero_grad()             # Clear the gradient.\n",
    "    loss = 0                    # Initial loss.\n",
    "\n",
    "    for t in range(seq_len):    # For each one in the input sequence.\n",
    "        output, hidden = net(input[t], hidden)\n",
    "        loss += loss_func(output, target[t])\n",
    "\n",
    "    loss.backward()             # Backward. \n",
    "    opt.step()                  # Update the weights.\n",
    "\n",
    "    return loss / seq_len       # Return the average loss w.r.t sequence length."
   ]
  },
  {
   "cell_type": "code",
   "execution_count": 20,
   "metadata": {
    "ExecuteTime": {
     "end_time": "2019-05-15T03:10:36.378318Z",
     "start_time": "2019-05-15T03:10:36.366394Z"
    }
   },
   "outputs": [],
   "source": [
    "# Evaluation step function.\n",
    "def eval_step(net, init_seq='F', predicted_len=100):\n",
    "    # Initialize the hidden state, input and the predicted sequence.\n",
    "    hidden        = net.init_hidden()\n",
    "    init_input    = seq_to_onehot(init_seq).to(device)\n",
    "    predicted_seq = init_seq + \" \"\n",
    "\n",
    "    # Use initial string to \"build up\" hidden state.\n",
    "    for t in range(len(init_seq) - 1):\n",
    "        output, hidden = net(init_input[t], hidden)\n",
    "        \n",
    "    # Set current input as the last character of the initial string.\n",
    "    input = init_input[-1]\n",
    "    \n",
    "    # Predict more characters after the initial string.\n",
    "    for t in range(predicted_len):\n",
    "        # Get the current output and hidden state.\n",
    "        output, hidden = net(input, hidden)\n",
    "        \n",
    "        # Sample from the output as a multinomial distribution.\n",
    "        predicted_index = torch.multinomial(output.view(-1).exp(), 1)[0]\n",
    "        \n",
    "        # Add predicted character to the sequence and use it as next input.\n",
    "        predicted_note  = all_notes[predicted_index]\n",
    "        predicted_seq += predicted_note + \" \"\n",
    "        \n",
    "        # Use the predicted character to generate the input of next round.\n",
    "        input = seq_to_onehot(predicted_note)[0].to(device)\n",
    "\n",
    "    return predicted_seq"
   ]
  },
  {
   "cell_type": "markdown",
   "metadata": {},
   "source": [
    "#### Training Procedure"
   ]
  },
  {
   "cell_type": "code",
   "execution_count": 21,
   "metadata": {
    "ExecuteTime": {
     "end_time": "2019-05-15T00:38:13.556497Z",
     "start_time": "2019-05-14T23:57:22.478732Z"
    },
    "scrolled": true
   },
   "outputs": [
    {
     "name": "stdout",
     "output_type": "stream",
     "text": [
      "iter:99/7000 loss:2.4504754543304443\n",
      "generated sequence: F C A A3 A D B C E B D A C A A F F# A4 E F A E G D F D G F B F A D F# C C D B D E B F A3 C B3 E B B E E B2 F G E E F A G F B A4 F D F D E F#3 F#3 C C G A F F F G D F C A G C G G G C4 C A G F B B F D A3 G F# C D F G F \n",
      "\n",
      "iter:199/7000 loss:2.3778269290924072\n",
      "generated sequence: F F C B E F A E G E E G F F G G G G C B F G B F E B2 C C G F F C F F F C F G C#6 B3 G F# E F E C C F# C F#3 B F F F C F C F F G D A A A E D F G G C C E B-5 F# C C F# G D C C E G F C C C B A C B3 E B5 F D G B E C F B \n",
      "\n",
      "iter:299/7000 loss:2.3506853580474854\n",
      "generated sequence: F F D A A B G B C4 F C G C B F G F G C F F G B C B B-2 B B B A C G C C F G#5 C B C B C G G E E F D F B C D B A G F B F B E A F B5 G G C B F F C B C B C E B E C F G F E F C G#5 E E A C B C C C F B G C C E F# D A4 \n",
      "\n",
      "iter:399/7000 loss:2.341447591781616\n",
      "generated sequence: F F# D B G B D D G E F F# G F# F G B F G A3 G G D B A E G E F F E G B E G B-5 C C F# D B C F F E C2 C F F# A4 E F# C B3 G#5 G E G G G G A F G G E C E E E B C D G B-3 D G C B G G G C E F F D C E F F E G B C F# G F E G C \n",
      "\n",
      "iter:499/7000 loss:2.426088571548462\n",
      "generated sequence: F E B-3 G C A B G G G E A C G G F# G C D F# B E F# G C D C B B D B-2 F C B F C C G F C G G G G C E A E B B F C C E E A A C E C B D C G F B G C E D B C C F# F G B C B F# E C F C G B C C C A4 E A C B3 G B F C C E C \n",
      "\n",
      "iter:599/7000 loss:2.3130030632019043\n",
      "generated sequence: F G D C C A C G B F B B3 G G G B B B C F G F B G G D C A C2 D A F# A G B C B D C B F E C B A G G E G G B C A E C#5 A D A C D C E A C B C C C F D A F# C F F G D F E G G E F A C B G B C A A B D B F F E D G G G \n",
      "\n",
      "iter:699/7000 loss:2.3775627613067627\n",
      "generated sequence: F B3 F B C C D G A G G C C E F# C G B-5 E G C4 E-3 F E C B1 G E B-1 B-3 G G A C A C G C E E F G F C G B C F# E F# D G G E G B B G A G C G E C C C C C C C A F# C A B G C F B C G C C C C C C C D C E G C C C G C C D B A \n",
      "\n",
      "iter:799/7000 loss:2.3413901329040527\n",
      "generated sequence: F B F B F E G D B F B C B C4 C G B E B G E E D C G C A E E F F E E F D F G F C4 D A G C B D G B3 C G E F G C D C G E B G B E E E G G F A D C G E E B A3 F# C A B G G D D G D G C C D C B D C F G G G B C G B G3 \n",
      "\n",
      "iter:899/7000 loss:2.35629940032959\n",
      "generated sequence: F B B E E B A A B E D G G#5 C C G C G E-3 C G C G C F# A3 C B E B G E E B G G G F# B B E B E E-3 E-3 G D C E E C#6 E G E-3 A C B E G G E B E C C E E E B C B3 A4 C C F# A C E G E C F A C B G D E C G E C B D D D B G3 E F E \n",
      "\n",
      "iter:999/7000 loss:2.3241987228393555\n",
      "generated sequence: F D C F C B B F# B G C F C A E E B F A B G G A F C D F C C C E G F F E B C C C4 G C G C E B G G F D C A E C C F E B3 B C E G F#3 F C#5 F F# C E C C C C C F# D G C B C F C4 B G C B B C B F# F E D B C E A D A C4 B G \n",
      "\n",
      "iter:1099/7000 loss:2.3895013332366943\n",
      "generated sequence: F C A C2 F E C E D F B B6 C E G G F# D G F# C E C G F B G G E C G C C C B F B C2 D E C D A C B F D C C F F# A D F#3 F C C D G A B D F C B-5 B-5 G E E C B D G B C A D B A D G A G B E C C G G F B C E B C F C E E C C \n",
      "\n",
      "iter:1199/7000 loss:2.356384754180908\n",
      "generated sequence: F F E E E E E E C G3 E-3 C D B-3 E B G G D E G E D E E E A E F D F E C F# F G C2 G E G D D E B E A E G E F A4 A C E A D B C D E G G B F# F# F# E E D A3 F# C C B D B3 B B G B G G B F D D D A F F G C C C F F F E E F E \n",
      "\n",
      "iter:1299/7000 loss:2.296818256378174\n",
      "generated sequence: F B D E G E E D E G E E-3 B D B B B F D D A D F D E-3 G F# D B B E B B B G D G F A D B A B G G C F C A F F# E B A A G C#5 A B D D B D G B E G G A4 G B D D B E A B B B C F#3 G E B A B B D F D E F# A F C F B F G B F \n",
      "\n",
      "iter:1399/7000 loss:2.381922483444214\n",
      "generated sequence: F C D C E A B E E A D B1 D G D D F G E C B F# C A D C4 E D G G G E E E F# A D A G B E C2 D B E D B C D B3 G A E F# B G A C D F# C B C F# D F# E G F# B G B B D D C D G D D B A E G E B C B E B E B G G A B E D F# B E \n",
      "\n",
      "iter:1499/7000 loss:2.377399444580078\n",
      "generated sequence: F E F# E D B D A F B G G C D A B D B5 B G B-2 B-3 G B B5 B E C G C G B A3 C F D A B-3 B E D D E E F F G D G#5 F B E G D F C G E C C G G C E-3 B D E-3 E G C E F# B F B B F B C B E-3 G B C G G F F# F B-3 E A G E E G A D C G E \n",
      "\n",
      "iter:1599/7000 loss:2.334831953048706\n",
      "generated sequence: F E F# F# A C G G D D D D G D C E D C B D D D D F D F D E G F E G A G F# A A G G D F F E C G3 B G C F# F# G E A G D F E G B E D D E F# F B G D D C E E G E D D C F# D D D D D A G G F G C B A D E F# D D D G B3 G D \n",
      "\n",
      "iter:1699/7000 loss:2.3437700271606445\n",
      "generated sequence: F C C E C E C C B E G D G A B5 G C4 G E G B G B B C C G C G C G E E G A C C E C C F G F A A D E F C B E C F A C C#6 E G C E G E C G E C E F G E G A E B E G E C G E G G F C F# F E G F# C F D F G F B C F E C C \n",
      "\n",
      "iter:1799/7000 loss:2.3654837608337402\n",
      "generated sequence: F G E C C B E E G A4 G E G B C D E C G G G G E F D C#5 E G C C E C B G F C G A C B E B G G C B B D B D D G3 B G G A G D A B F# A B G E E E C E G3 G F E C4 E F# B E C E C F# G F C E G B E A E D D B F D G G G E E \n",
      "\n",
      "iter:1899/7000 loss:2.2820334434509277\n",
      "generated sequence: F A E C E E C4 D C B B F G G F E B-2 B5 B-2 C E A G C A C A A E E C A E C C B-3 B C E G B G C C G E B G B C#6 D C D E B C G E E G G E G B C A E E C C E A E B A C C E D C E G F# B-3 D E B E C D C2 C F G B E E F F# F E \n",
      "\n",
      "iter:1999/7000 loss:2.2894480228424072\n",
      "generated sequence: F D F A4 F# E E C G B-2 A3 B C E C E E D F# F# A C A D D F# C A3 B E B D E E E E C F D A A C C A G E E F F C C A F#3 B A C D C C G A D F# F E C F G F F# D E F F C G F C A C D D B E F C C D G G E-3 A F C A F# D B F# F C \n",
      "\n",
      "iter:2099/7000 loss:2.3274612426757812\n",
      "generated sequence: F A3 G D G B B G G G G G D D G G F G D D D G F D F#3 G D G D G B D D B5 D G D F G G G G G G C F# E G B F A B G F F G G#5 G F F C C B-2 G G B B-1 F G E A G D G B A G D F D E B C E B-2 E C G G D B-5 F C B E G F F# G3 C A \n",
      "\n",
      "iter:2199/7000 loss:2.3428823947906494\n",
      "generated sequence: F G F A B3 A B D B-2 B F A C C C F E F# C C G B A F C E F B-2 E B D E B2 B F F F G G B G B-2 G G C C F C C F F B-2 C B B3 B F G D C G C G F C G C F C B D G B-1 C F C C B-1 G G G B D F G D F F G F B F G C G D G#5 F G G B \n",
      "\n",
      "iter:2299/7000 loss:2.3635683059692383\n",
      "generated sequence: F D G C E B-3 E B F D F# B-2 D B-2 B2 D E B3 E E B E G3 G#5 G G#5 B D D G B3 G D F D B3 C D G3 B1 D B F# B E C4 E C C C E E D G G E F# F D B E B F F# F G B B2 C4 B B A A B F E C C C C4 B1 G D E C B1 G D D B F F F# B5 E B3 D D B2 C D \n",
      "\n",
      "iter:2399/7000 loss:2.3849775791168213\n",
      "generated sequence: F C B F F# G G G E C D C G A B G E D G G D D F F D F G D G G F G D D A A A A C C F A B5 C G D G G G G#5 G G G D D G D F F D B G D F G D A4 C G F# C D G G B G G F G D G F D G D G F G B5 D F B A A E G C C F G D \n",
      "\n",
      "iter:2499/7000 loss:2.341806173324585\n",
      "generated sequence: F B G B B C#5 G B F E B F B C F B B B-6 A4 F# B D F B F E G B F F B B E B D B G D B F E B B E A3 B F F B F B B B B G B F# E F F F F A E F D B B B B F E B B G B5 E F F D D B F D C C G A G F A G B B G C B F C E E \n",
      "\n",
      "iter:2599/7000 loss:2.2779593467712402\n",
      "generated sequence: F B-2 C C C G F G G D C B3 B3 C E F B3 G C D G G E C E F# C F C C E C G D B5 D C A C C C G E A E A4 A B C B B C E A C C C E A E G F# C C C2 G G C F# G G G C B-3 D C B D C B3 E C B C C E E C G E G F G E A C C E E C C \n",
      "\n",
      "iter:2699/7000 loss:2.325049638748169\n",
      "generated sequence: F D C A A G C G A C G E C B G C A F C A A B G B C G E C C C C C E E C#5 B F B F F# F E F G A F F B E C G#5 G A G G A C G F A3 F C A4 G G G C A A F# C F C F G E C C G E G F# A B F C C C F E F# E E F A G3 E G F E F \n",
      "\n",
      "iter:2799/7000 loss:2.3094234466552734\n",
      "generated sequence: F F# F B G D C C D B B A B D C C D B G C B B D B C4 B D E D C E C D F# F F# B B D B B D E F B B A D F A F F G F B C F B B D E F# B G E C E E B D D D B E C C B E C G B F G C B D A E A C C B G C A B B B E B B \n",
      "\n",
      "iter:2899/7000 loss:2.337473154067993\n",
      "generated sequence: F F# F A G B C G G D C C A B C A A A E C C F# A E E G C F G E E G C G G G G G G E B A E D E C G C G G F C A G G E E G B B D E F A C G G E C F E D B C4 E A C G C A C F C D C B E G G B G G G C C D C B F C E \n",
      "\n",
      "iter:2999/7000 loss:2.342886209487915\n",
      "generated sequence: F C A B5 D G E C C D D D D G G G B5 E E C G G B E G E E E C E B E D D E F E D B2 G A F D E F G F A C E G D B F B D D D D B D C B C D C C A3 E E E E F A B A E B E B G E E G E G G E G G E F A D G D G A D D B \n",
      "\n",
      "iter:3099/7000 loss:2.31316876411438\n",
      "generated sequence: F G F G G C B-3 B G D G F G G C#5 E C E-3 C D G C A C G B C F B5 G D D C G F# A4 C C G F A C E G F A4 C D G F G G F G G F# D C2 A G G D C#6 D D B D G D C D B G B G#5 G F D G G D D E G G G G G G E F# G G G G G G C G F E-3 \n",
      "\n",
      "iter:3199/7000 loss:2.3527214527130127\n",
      "generated sequence: F F F# C B E E C C C E C#5 E B2 G E E G B3 E E F# B3 D D F E G D F# F G C2 E-3 B5 C G D D E D E E C4 C E G D G D G3 F C C2 C C F#3 C E A4 D A G G C C D B C C F# G E F G G G G B B3 A E F D D C B C2 B G F E B C C B C C F E B \n",
      "\n",
      "iter:3299/7000 loss:2.30832839012146\n",
      "generated sequence: F C E A4 F# E A A G B C G E C#5 E C G E F# F# A F E B B D F# D A F A F# D B B E F E G C B B B G E G D G C F F D G D D A D A A A G D D D D E B B G E E E E A F# A A F D G A G B2 D B B B F F E C D B C C A A E B F F \n",
      "\n",
      "iter:3399/7000 loss:2.328200101852417\n",
      "generated sequence: F A E E E B G C F E D G G B C E C C C A C A B E E F G D E G G G B F C B D B3 B G E D C E E G E G C D C C C E D B G#5 B C C A G E D E E C C D C A C E B G A C C E E B D E E B G D F F D E G C G E C B3 B C C B \n",
      "\n",
      "iter:3499/7000 loss:2.423095226287842\n",
      "generated sequence: F B B G G G B B G F F# D G G C G C F B G G E D G A B B G E E F#3 F# B F C A B B1 E G B B F# G B B D E G C B E G G G D F# A C F D E C G E C D B E B B1 D A E A3 B3 G B F G B E B1 G F F# C B F# D G D G E G C C E G C4 G \n",
      "\n",
      "iter:3599/7000 loss:2.3970139026641846\n",
      "generated sequence: F F# B C E F# G F# E A F# F F# C F F# A4 C B G G C E-3 C E B F#3 B G C2 F# C F# F# C B E D F# F# B3 F# F B E C D D F# G F# F B C C C B C C#5 F# F E F# F# E E F F# F# D C F A C C E C F# E C E A A4 G E F# D E B A4 F F#3 D A4 C A G F# A3 A F# \n",
      "\n",
      "iter:3699/7000 loss:2.3863368034362793\n",
      "generated sequence: F D C G C D B D C C D F# D D E D E A E F F D B D A D F C D C B C A D G C F#3 G D E F C2 B D E F B E G C4 C D D F B C G F# D B C B D D F D C D C A D D B E B D D F G G D B D B E G F# B E F C E C B C D B D G B-3 D \n",
      "\n",
      "iter:3799/7000 loss:2.3618719577789307\n",
      "generated sequence: F E C A G E B-3 E E E A E D E C E C E G E C4 G3 D C A D G G G A G G B5 E D G E G E B C G E A E E E E A E D C C G E E E G C#6 E G C D C G E D G E E G F E B G G3 F# D C C G G B C G E G D E A G A E E D E G D G D C \n",
      "\n",
      "iter:3899/7000 loss:2.36492657661438\n",
      "generated sequence: F D A E G C G A F C C C G C E G C F F B D D F A B G F F# F F D C C G F G F G G G G F# G D C F# C E G G F G E D B B G A E G C F D A G A F F E E G B G D F G C B G C G G G G B F E E B G C B C D B E F E B G C \n",
      "\n",
      "iter:3999/7000 loss:2.3952674865722656\n",
      "generated sequence: F A G A G G C D F F C C C D E A C A C E F A D D D D B C B D F D G F# G G B5 D C F F D A F B C A C A E F A G G C D C F G D F D E C E F B-2 C E G G F B D F B D G C G C2 F D G E E-3 D C G C C F G G C G D G B B D \n",
      "\n",
      "iter:4099/7000 loss:2.3703994750976562\n",
      "generated sequence: F D D B D D D C G D D F E B5 F D D A F D F D G F# G D G A B D G A C D B C C F#3 G G G D G F# G G G B3 C B F D F D G B-5 E E A B F A G C2 B2 G G D E G F# D A E B3 G B A B D G C4 F F A E B C C F# A G3 B D D B D F G E B3 \n",
      "\n",
      "iter:4199/7000 loss:2.4349958896636963\n",
      "generated sequence: F D F# A G C2 G F A G G B C B A B B F C A D G F B B D F B C D F# C F G G D C F E E A G B E G E G A C D G G D A G B B B F# D D F G E A E A G D B D G G A A A G C F A D B A F G G D F G D G D E G G G E A A A G \n",
      "\n",
      "iter:4299/7000 loss:2.4015371799468994\n",
      "generated sequence: F B D E A B E A E C C F# D B E E E C2 E F# E C D D B D E E D F E E G F D D B G B D C E B B B G E E B G C G#5 B G B E C D B2 E E G#5 E B E B B E G E E E E C E E G E E G D C E E E E E F E B E F D E F# F F# F# G C B \n",
      "\n",
      "iter:4399/7000 loss:2.3696510791778564\n",
      "generated sequence: F G G G B B G C G E-3 G D F C G G D G B G C G C D C B G G E G D D G A G B G B B G D C B B F G A E G G B B C B-6 G G C4 E C#5 B B E C4 F B B B B E C F G G B G F F# F B D G B G F# B B F# E B G B G C D C B G B B C G \n",
      "\n",
      "iter:4499/7000 loss:2.405547618865967\n",
      "generated sequence: F F# B B5 B C F E F# A4 G F F# B-5 G F# C B B B E E G A F D F# E C D B E B2 G A F B B C F G B E G B F# B G A B5 F# F#3 C B B C F# C B G A D B B C B B G C4 E F F# D C A D A E B C B D B B C F D A3 F E E D G G3 E E E B B C G3 \n",
      "\n",
      "iter:4599/7000 loss:2.3688957691192627\n",
      "generated sequence: F G B D C A C G B-5 B B-3 C G B C C E G E C B F# C B-2 C C F C G F A E A C E E B-3 F B D A C B B E E C C B E G B E D G G G A D B G B E D E D E F B E E A A A E G E D B G B E F# G E E G#5 B C G C E E B G D E E B B E \n",
      "\n",
      "iter:4699/7000 loss:2.3619110584259033\n",
      "generated sequence: F G C B C E D G B A B3 G B F A B B A G B F F G F E F C E F E G B D G B F F G D D F G3 D C4 A B G B A G D B A A A D G F D B G F G#5 G E G B G B E F F# B F# D E E B F E B E E B E G A F A G A B E C A B G F C G F# \n",
      "\n",
      "iter:4799/7000 loss:2.356442928314209\n",
      "generated sequence: F B E D C C D A A F G F B G F G F G F G C G B G F B D B2 C G B G G E D D F G E D B1 F E G D B2 F# G G G C G D C G B1 B D F# F E E E B E C D C D C B G A D B G E G G E E E G B F G E D G B F F B G G F#3 B1 E G G F \n",
      "\n",
      "iter:4899/7000 loss:2.3496475219726562\n",
      "generated sequence: F G G A E E G G B B G G G C B D B G G G B G C D D F F A E D G C G C G E G B A C D D E G#5 C G B G F G G G G G E B C E B G B3 F# G G F G3 G E D C G E E G E D G B G E B G E G D B-5 G C#5 B F G D C#5 E C#5 G C B C G F \n",
      "\n",
      "iter:4999/7000 loss:2.346635580062866\n",
      "generated sequence: F G G F G B-1 B G E F B B B B D B G D B C D A C G F E-3 F E B B B B F E C F C A3 E B F# F G G B G B G F F C F B G D B C C#6 E A D E B G G E B B D D F G B E E F C D E C F F B F G G G E F F# G A B B D C D F G G B \n",
      "\n",
      "iter:5099/7000 loss:2.370347738265991\n",
      "generated sequence: F D D A E D C C D B G F# G F C A D D B B B1 G E B E E B C B D C F#3 B C E D C G E G B-3 C F F# F F# A C A4 A A A F# F B C E G E D D G#5 E C C C E E C E C F G E E C G D C G E F C D B C F A C D B A B A B F D G D G B \n",
      "\n",
      "iter:5199/7000 loss:2.351299524307251\n",
      "generated sequence: F A D B A G A D D B B B C E B F# G3 G E C F# D E F D B C B C A A G D C C G D B A C G E C A E E F F D F G C A D G G G E G B D E A B-3 F A4 A E B A B G A A D B F# B D G E D B D D E D D F F B A A C C B D C B A A \n",
      "\n",
      "iter:5299/7000 loss:2.332200050354004\n",
      "generated sequence: F G C G F B A C C G C F D C C A D B F A F C G A C A C G C C G C A C F F# D A A A F F G B C F F B G F C D D D G B F G D G E C A B2 E C B3 F A G G F# E F D F C C F# F# C C F F F# C E C E F#3 A A C F# D F E G F A F \n",
      "\n",
      "iter:5399/7000 loss:2.3038687705993652\n",
      "generated sequence: F G A C E E F G B3 F E G D G D F E C C F A D E E G F B E B D C C4 E E F B B E F F E F F F E C G G B F G D F G C A D G G F E B D C D E G F F F B A F F G E A C G F G E G A D D G G3 C B F F C2 B E D A B D B F \n",
      "\n",
      "iter:5499/7000 loss:2.3809099197387695\n",
      "generated sequence: F B F D B F E B A A D G G B E D D G E A A C E D D F# G D F# A C E G D D G D D F# E A F# A F# E G A E G D E A D B F G C C D G E C F# C B2 G B B C C E B1 G B E C C C D C A F G G A F# A F G G D A D A E A D D F D F \n",
      "\n",
      "iter:5599/7000 loss:2.2751641273498535\n",
      "generated sequence: F G C C E G E E B G C F G E C F F G D C C C G D D A4 A B E C A G C F G C C E E F# G C B E C C G G F G G C F B G G E A F C A D E C G F C G E C C C F# E B C E C4 F G F C D D F D A G D G3 F# B D E G E G C G C C \n",
      "\n",
      "iter:5699/7000 loss:2.32236909866333\n",
      "generated sequence: F C D C C A3 D E C E G F# B2 G E D D D C C E E G G C F F A G D E C G B G E C E G C F# F B F C A G G G G B G C B D G#5 B G F E A F A G F# E D B G C F G D F C C G G A G D F G B G G D G F G B G A G C#6 F# E C F# G G \n",
      "\n",
      "iter:5799/7000 loss:2.3004677295684814\n",
      "generated sequence: F F# B F D E A3 G D E E B D D F B2 G B B-3 D G F D E B E D D C B G#5 E D G B B C G D D B A B B G B E B A4 G F# F# E A A F E E C F F E D G E A G G D B D G3 D G A E A B-3 A E F# B F# D B F# A F# B D G F E C4 G E D C#5 E D E \n",
      "\n",
      "iter:5899/7000 loss:2.2986085414886475\n",
      "generated sequence: F D F G G E G G A C C A E D B5 C C G F C A4 B F G C E C B C G D C B C C C D C C C A G A B-5 D A4 C C#5 A G E F# F C E G A A G C F G A C E G C A F B G D E C C A F C F B C A F E F C F G C A C C G F# G G G B B C B \n",
      "\n",
      "iter:5999/7000 loss:2.364999532699585\n",
      "generated sequence: F G F F# C B D F B C B B C F# E C G E E C C D G G G C F B D G D C E-3 C F B D B-2 E C F E G G G C F D G C D F C F G G A A A D A3 D G G C B B E F F# F E E G D D D F A D B C B5 E B E F A D F B E C B D G E-3 B F D D \n",
      "\n",
      "iter:6099/7000 loss:2.299671173095703\n",
      "generated sequence: F D D F D E D D F C G G F D B E B D E G B D E A F G F F C D B B A B F E F F C E D B F F B A B A E B3 B B B D B D B-2 B B F B G E B F# B E D D G F G G3 F# D F C E A E G B B D G3 F D F B1 F C E F# F D G C C E D F \n",
      "\n",
      "iter:6199/7000 loss:2.329357862472534\n",
      "generated sequence: F F G A A E A A A A C B E E E G D B C G B A3 F# D E F# D C4 E F# A C C F C F# C E B2 C4 E B E A E C F# F A C B E F# C4 C C2 B C F# C F E B G C C E E C C4 G A4 F# G C D G B C E A B C C2 C F C4 F# E G B D E B B C E A C C C \n",
      "\n",
      "iter:6299/7000 loss:2.298571825027466\n",
      "generated sequence: F G F C E G C C G B B B F# E B B B B F# E D B G G D C G C E B C#5 G G F C E E E A C E G G C G G B B E D E F# C F# A D F F C2 C D B C G G B E D B B B E G G D B E B E C E F F D F C#5 C A F# G C E B G G C B F# E F C \n",
      "\n",
      "iter:6399/7000 loss:2.3427863121032715\n",
      "generated sequence: F G D F D E G G F G B-5 C A3 E F A3 A3 D B G B C F G E C C G B G E A B E E E E E E E E E-3 E F# C G E G F B F E C4 G B C A3 E G G E G B D D G F G G E F D B G D A B A B A D A3 C E C E C E G F# B C E E B3 G G C E C#5 F \n",
      "\n",
      "iter:6499/7000 loss:2.357297658920288\n",
      "generated sequence: F D G D F G F G G G C#5 G A F E C F# F B B C#5 F D G G G3 B F G G C C G C B G D F G G C B C B F# D G D G F C C G A F# C D C G C B G E C E D F A C F F F# G B B G B G D G D D G C F F D F D B-2 E C G F# G G F B-1 B B D \n",
      "\n",
      "iter:6599/7000 loss:2.308558702468872\n",
      "generated sequence: F B B-5 C G C E B G C C C C B A E D D F# F D D E F# C F D G C G G G D E G G B D E C B E C E E C C E E B A C A B G G G E G E E G G D F# B C E C E C G E C E G E D D D D G G D C B C D G G G G A E B B C B C C F \n",
      "\n",
      "iter:6699/7000 loss:2.261836290359497\n",
      "generated sequence: F D B D D B D D F# F# D A A A C D D B D F F D D B C E C F B C B2 C E E E E G3 A G G E E D F D F A F C G B D C C A A D G C C E C F C F# C C G E C B C E B A B C D C E E A D F E D G C D D E D D D G D E D D A C \n",
      "\n",
      "iter:6799/7000 loss:2.3340327739715576\n",
      "generated sequence: F F B F B G B B A F B C#5 B F B5 F F G B F B B E B D B F F B B B E B B C F# F# E G B F G D C B D F F B D C A B B B B F C A F F#3 B B D B F B G B C C#5 F# D F D F F C B D F# B B F B D D B D D E F B D G F D F B B E \n",
      "\n",
      "iter:6899/7000 loss:2.3237390518188477\n",
      "generated sequence: F F D D E G B D D G B D B B D D E B G B G F A G D B F A F F# A D A C F# C D B C C4 B A G E B F G3 C E D E C C4 C D B B E D D B C G B B D F F# C A G C A F B G C E C C B A G G F B A F E A B E B F# C B F C2 D C E \n",
      "\n",
      "iter:6999/7000 loss:2.3032758235931396\n",
      "generated sequence: F E B A E E A A A A F# C A A G D D C C A A F# A D B G A F G F A F# G D E B G A F A A F#3 B D D A C A A G B1 D B G F C B F A A A A D A C A E A E D A B E C G C G B A D A C C D C D D B E G C E D E D C F G B G G \n",
      "\n"
     ]
    }
   ],
   "source": [
    "# Number of iterations.\n",
    "iters       = 7000  # Number of training iterations.\n",
    "print_iters = 100    # Number of iterations for each log printing.\n",
    "\n",
    "# The loss variables.\n",
    "all_losses = []\n",
    "loss_sum   = 0\n",
    "\n",
    "# Initialize the optimizer and the loss function.\n",
    "opt       = torch.optim.Adam(net.parameters(), lr=0.005)\n",
    "loss_func = nn.CrossEntropyLoss()\n",
    "\n",
    "# Training procedure.\n",
    "for i in range(iters):\n",
    "    input, target = get_input_and_target()            # Fetch input and target.\n",
    "    input, target = input.to(device), target.to(device) # Move to GPU memory.\n",
    "    loss      = train_step(net, opt, input, target)   # Calculate the loss.\n",
    "    loss_sum += loss                                  # Accumulate the loss.\n",
    "\n",
    "    # Print the log.\n",
    "    if i % print_iters == print_iters - 1:\n",
    "        print('iter:{}/{} loss:{}'.format(i, iters, loss_sum / print_iters))\n",
    "        print('generated sequence: {}\\n'.format(eval_step(net)))\n",
    "              \n",
    "        # Track the loss.\n",
    "        all_losses.append(loss_sum / print_iters)\n",
    "        loss_sum = 0"
   ]
  },
  {
   "cell_type": "markdown",
   "metadata": {},
   "source": [
    "#### Training Loss Curve"
   ]
  },
  {
   "cell_type": "code",
   "execution_count": 22,
   "metadata": {
    "ExecuteTime": {
     "end_time": "2019-05-15T00:38:13.728474Z",
     "start_time": "2019-05-15T00:38:13.559531Z"
    }
   },
   "outputs": [
    {
     "data": {
      "image/png": "[encoded data removed]",
      "text/plain": [
       "<Figure size 432x288 with 1 Axes>"
      ]
     },
     "metadata": {
      "image/png": {
       "height": 261,
       "width": 398
      },
      "needs_background": "light"
     },
     "output_type": "display_data"
    }
   ],
   "source": [
    "np_all_losses = [loss.item() for loss in all_losses]\n",
    "plt.xlabel('iters')\n",
    "plt.ylabel('loss')\n",
    "plt.plot(np_all_losses)\n",
    "plt.show()"
   ]
  },
  {
   "cell_type": "markdown",
   "metadata": {},
   "source": [
    "#### Evaluation: A Sample of Generated Sequence"
   ]
  },
  {
   "cell_type": "code",
   "execution_count": 23,
   "metadata": {
    "ExecuteTime": {
     "end_time": "2019-05-15T03:10:52.267837Z",
     "start_time": "2019-05-15T03:10:51.986701Z"
    },
    "scrolled": true
   },
   "outputs": [
    {
     "name": "stdout",
     "output_type": "stream",
     "text": [
      "F G A A A B F B A E G E C G B B B E A G E B F# F# C B1 C E C G E E E A C G B B D E F G G D B E G D G E D A F A A A A E A A C A B A G B D D C C E F B1 B-3 B B E G A A C A D D A G D B D F# C G G G G G G A G G B C A F# E G B A F C C F G F C E A F B2 B A D B A E B F A B A D B C G F C D F A C#5 B A E D A E G3 E A A A E E C#5 G G G D B B D B C G G A G D B C C C4 C G G G G D F A C C A G A E A E F A A A3 A F B A B F G B G F# G G D A G D F G D A B2 G C D B G G C D B5 A D A A B G E A C G B B C F C D B A D B F# E G E A F A A C F E E F# A D D G C G G G D E B B G F E G G G E G G G G G F B2 E G D B A D G C C D D A C4 E D C A E B G D F G E E C A E F# B A A A F# F B F F B B B G G F G C E E B B D G A F C G G G E G E-3 G G G E C D C4 D B D G B B G B D G A D F G F F C E C B E C E D B D D B B D E C E B A G E G G E G C F A G D C E C D F G G C G E G G G A F F F B G A F F G A C A E F# A4 A A A G A A A F D D B G B D C E G G C G A D G G C B B G C A D D D F C C C F#3 A E A C E A A D A A A C A A G D B D A F B B F#3 D C D G B D G B D F A D F# D F D C G A D G A B D A G D B D A A A A A A C F# B B D A D C D G F G G E G C E G G C G G F G G F# G G C B D G C G D A C G A G C E D G B C G B G E G A A A C C A A A E G B D A A G F# F#3 E A D B G A D D G A F B G \n"
     ]
    }
   ],
   "source": [
    "generated_seq = eval_step(net, predicted_len=600)\n",
    "print(generated_seq)"
   ]
  },
  {
   "cell_type": "markdown",
   "metadata": {},
   "source": [
    "**Play the Generated Sequence**"
   ]
  },
  {
   "cell_type": "code",
   "execution_count": 24,
   "metadata": {},
   "outputs": [
    {
     "name": "stdout",
     "output_type": "stream",
     "text": [
      "<music21.stream.Stream 0x7f4b9af0b6a0>\n"
     ]
    }
   ],
   "source": [
    "def sequence_notes(Snippet):\n",
    "    seq = list(Snippet.split(\" \"))[:-1]\n",
    "    Melody = []\n",
    "    offset = 0 # determines position of notes\n",
    "    for i in seq:\n",
    "        curr = note.Note(i)\n",
    "        curr.offset = offset\n",
    "        Melody.append(curr)\n",
    "        # increase offset each iteration so that notes do not stack\n",
    "        offset += 1\n",
    "    Melody_midi = stream.Stream(Melody)   \n",
    "    return Melody_midi\n",
    "\n",
    "Melody = sequence_notes(generated_seq)\n",
    "print(Melody)"
   ]
  },
  {
   "cell_type": "code",
   "execution_count": 25,
   "metadata": {
    "scrolled": true
   },
   "outputs": [
    {
     "data": {
      "text/html": [
       "\n",
       "                <div id=\"midiPlayerDiv5574497\"></div>\n",
       "                <link rel=\"stylesheet\" href=\"https://cuthbertLab.github.io/music21j/css/m21.css\">\n",
       "                \n",
       "                <script>\n",
       "                require.config({\n",
       "                    paths: {\n",
       "                        'music21': 'https://cuthbertLab.github.io/music21j/releases/music21.debug',\n",
       "                    }\n",
       "                });\n",
       "                require(['music21'], function(music21) {\n",
       "                    mp = new music21.miditools.MidiPlayer();\n",
       "                    mp.addPlayer(\"#midiPlayerDiv5574497\");\n",
       "                    mp.base64Load(\"data:audio/midi;base64,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\");\n",
       "                });\n",
       "                </script>"
      ],
      "text/plain": [
       "<IPython.core.display.HTML object>"
      ]
     },
     "metadata": {},
     "output_type": "display_data"
    }
   ],
   "source": [
    "Melody.write('midi', 'generated_melody.midi')\n",
    "Melody.show('midi')"
   ]
  },
  {
   "cell_type": "code",
   "execution_count": null,
   "metadata": {},
   "outputs": [],
   "source": []
  }
 ],
 "metadata": {
  "kernelspec": {
   "display_name": "Python 3 (ipykernel)",
   "language": "python",
   "name": "python3"
  },
  "language_info": {
   "codemirror_mode": {
    "name": "ipython",
    "version": 3
   },
   "file_extension": ".py",
   "mimetype": "text/x-python",
   "name": "python",
   "nbconvert_exporter": "python",
   "pygments_lexer": "ipython3",
   "version": "3.9.5"
  },
  "toc": {
   "base_numbering": 1,
   "nav_menu": {},
   "number_sections": true,
   "sideBar": true,
   "skip_h1_title": false,
   "title_cell": "Table of Contents",
   "title_sidebar": "Contents",
   "toc_cell": false,
   "toc_position": {},
   "toc_section_display": true,
   "toc_window_display": false
  }
 },
 "nbformat": 4,
 "nbformat_minor": 1
}
